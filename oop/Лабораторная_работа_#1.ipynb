{
 "cells": [
  {
   "cell_type": "markdown",
   "id": "26585bc1",
   "metadata": {},
   "source": [
    "# Лабораторная работа #1"
   ]
  },
  {
   "cell_type": "markdown",
   "id": "276140a3",
   "metadata": {},
   "source": [
    "В этой работе, вам необходимо выбрать набор данных и модель \n",
    "\n",
    "Варианты работ: \n",
    "\n",
    "1. Классификация текстовых эмоций\n",
    "2. Генерация твитов Рогозина\n",
    "3. Генерация Анекдотов\n",
    "4. Генерация гороскопов\n",
    "5. Обнаружение объектов на фото (любые объекты)\n",
    "7. Сегментация объекта\n",
    "8. Разделение звуковой дорожки\n",
    "\n",
    "\n",
    "Каждая работа должна содержать **Jupyter Notebook (.ipynb)**  в котором будет:\n",
    "\n",
    "- Получение датесета (или указания ссылок откуда он был взят)\n",
    "- Просмотр статистики и объема датасета (распредление классов, длина текстовых примеров)\n",
    "- Проверка датасета (нет ли битых изображений)\n",
    "- Предобработка данных \n",
    "- Выдвижение гипотез \n",
    "- Выбор модели\n",
    "- Обучение модели\n",
    "- Расчет метрик\n",
    "- Сохранение модели\n",
    "- Выводы\n",
    "\n",
    "Все ЛР сохранить в новый репозиторий со всеми остальными ЛР, а так же необходимо оформить репозиторий.\n",
    "\n",
    "**Источники которые могут помочь в работе:** \n",
    "\n",
    "- https://huggingface.co\n",
    "- https://mmdetection.readthedocs.io/en/latest/\n",
    "- https://mmsegmentation.readthedocs.io/en/latest/\n",
    "- https://pytorch.org/hub/"
   ]
  }
 ],
 "metadata": {
  "kernelspec": {
   "display_name": "Python 3.10.6 64-bit",
   "language": "python",
   "name": "python3"
  },
  "language_info": {
   "codemirror_mode": {
    "name": "ipython",
    "version": 3
   },
   "file_extension": ".py",
   "mimetype": "text/x-python",
   "name": "python",
   "nbconvert_exporter": "python",
   "pygments_lexer": "ipython3",
   "version": "3.10.6"
  },
  "vscode": {
   "interpreter": {
    "hash": "b0fa6594d8f4cbf19f97940f81e996739fb7646882a419484c72d19e05852a7e"
   }
  }
 },
 "nbformat": 4,
 "nbformat_minor": 5
}
